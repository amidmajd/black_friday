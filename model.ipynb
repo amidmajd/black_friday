{
 "cells": [
  {
   "cell_type": "code",
   "execution_count": 1,
   "metadata": {
    "collapsed": true
   },
   "outputs": [],
   "source": [
    "import pandas as pd\n",
    "import numpy as np\n",
    "import seaborn as sns\n",
    "from sklearn import preprocessing\n",
    "from sklearn.ensemble import RandomForestRegressor\n",
    "from sklearn.ensemble import RandomForestClassifier\n",
    "from sklearn.model_selection import train_test_split\n",
    "from sklearn.metrics import mean_squared_error\n",
    "from matplotlib import pyplot as plt\n",
    "sns.set()"
   ]
  },
  {
   "cell_type": "code",
   "execution_count": 2,
   "metadata": {
    "collapsed": true
   },
   "outputs": [],
   "source": [
    "data = pd.read_csv('train_cleaned.csv')\n",
    "test = pd.read_csv('test_cleaned.csv')\n",
    "target = data.Purchase\n",
    "data = data.drop('Purchase', axis=1)"
   ]
  },
  {
   "cell_type": "code",
   "execution_count": 10,
   "metadata": {},
   "outputs": [
    {
     "name": "stdout",
     "output_type": "stream",
     "text": [
      "10\n",
      "11\n",
      "12\n",
      "13\n",
      "14\n",
      "15\n",
      "16\n",
      "17\n",
      "18\n",
      "19\n",
      "20\n",
      "21\n",
      "22\n",
      "23\n",
      "24\n",
      "25\n",
      "26\n",
      "27\n",
      "28\n",
      "29\n",
      "30\n",
      "31\n",
      "32\n",
      "33\n",
      "34\n",
      "35\n",
      "36\n",
      "37\n",
      "38\n",
      "39\n",
      "40\n",
      "41\n",
      "42\n",
      "43\n",
      "44\n",
      "45\n",
      "46\n",
      "47\n",
      "48\n",
      "49\n"
     ]
    },
    {
     "data": {
      "image/png": "[encoded data removed]",
      "text/plain": [
       "<matplotlib.figure.Figure at 0x7f79f44dfb70>"
      ]
     },
     "metadata": {},
     "output_type": "display_data"
    }
   ],
   "source": [
    "# x_train, x_test, y_train, y_test = train_test_split(data, target, test_size=0.2)\n",
    "\n",
    "# tmp = []\n",
    "# for i in range(10, 50):\n",
    "#     print(i)\n",
    "#     model = RandomForestRegressor(n_estimators=30, n_jobs=-1, max_depth=i)\n",
    "#     model.fit(x_train, y_train)\n",
    "#     tmp.append(model.score(x_test, y_test) * 100)\n",
    "# plt.plot(range(10, 50), tmp)\n",
    "# plt.show()"
   ]
  },
  {
   "cell_type": "code",
   "execution_count": 14,
   "metadata": {},
   "outputs": [
    {
     "data": {
      "text/plain": [
       "[(10, 68.775288151410493),\n",
       " (11, 69.417220194003306),\n",
       " (12, 69.960657066924981),\n",
       " (13, 70.514049275434431),\n",
       " (14, 70.94604538497714),\n",
       " (15, 71.175969002023294),\n",
       " (16, 71.372453541202432),\n",
       " (17, 71.337011114030787),\n",
       " (18, 71.345616848592726),\n",
       " (19, 71.274228013043953),\n",
       " (20, 71.189802753401707),\n",
       " (21, 71.078801747696559),\n",
       " (22, 70.914471391810636),\n",
       " (23, 70.775671246011314),\n",
       " (24, 70.593933518075573),\n",
       " (25, 70.468083232109962),\n",
       " (26, 70.43779810166626),\n",
       " (27, 70.258618044241786),\n",
       " (28, 70.195004613883768),\n",
       " (29, 70.122938636204069),\n",
       " (30, 69.96291767321766),\n",
       " (31, 70.029273511424933),\n",
       " (32, 69.941516610607835),\n",
       " (33, 69.95127299172195),\n",
       " (34, 69.907061931153294),\n",
       " (35, 69.965325617835234),\n",
       " (36, 69.92077785948112),\n",
       " (37, 69.946676076217969),\n",
       " (38, 69.879342550368335),\n",
       " (39, 69.911107037798814),\n",
       " (40, 69.916672733538448),\n",
       " (41, 69.935371300544347),\n",
       " (42, 69.907433945664067),\n",
       " (43, 70.001127771861846),\n",
       " (44, 69.942185632428448),\n",
       " (45, 69.893837365772768),\n",
       " (46, 69.994366087366487),\n",
       " (47, 69.865429212293833),\n",
       " (48, 69.935960370525876),\n",
       " (49, 69.857297205228491)]"
      ]
     },
     "execution_count": 14,
     "metadata": {},
     "output_type": "execute_result"
    }
   ],
   "source": [
    "[(i+10,x) for i,x in enumerate(tmp)]"
   ]
  },
  {
   "cell_type": "code",
   "execution_count": null,
   "metadata": {
    "collapsed": true
   },
   "outputs": [],
   "source": [
    "# ft_imp = []\n",
    "# cols = data.columns\n",
    "# fig = plt.figure()\n",
    "# for i in range(len(cols)):\n",
    "#     ft_imp.append((cols[i], list(model.feature_importances_)[i]))\n",
    "# ft_imp = sorted(ft_imp, key=lambda x: x[1], reverse=True)\n",
    "# ft_imp = [(x, (y/sum([j for i, j in ft_imp])) * 100) for x, y in ft_imp]\n",
    "# sns.barplot([y for x, y in ft_imp], [x for x, y in ft_imp], orient='h')\n",
    "# fig.set_size_inches(16, 8)\n",
    "# # plt.show()\n",
    "# plt.savefig('feature_importance.png')"
   ]
  },
  {
   "cell_type": "code",
   "execution_count": 3,
   "metadata": {},
   "outputs": [],
   "source": [
    "# submission = pd.DataFrame(columns=['User_ID', 'Product_ID', 'Purchase'])\n",
    "# tmp_test = pd.read_csv('test.csv')\n",
    "# submission.User_ID = tmp_test.User_ID\n",
    "# submission.Product_ID = tmp_test.Product_ID\n",
    "\n",
    "# submission.Purchase = model.predict(test)\n",
    "# submission.to_csv('generated_sub.csv', index=False)"
   ]
  }
 ],
 "metadata": {
  "kernelspec": {
   "display_name": "Python 3",
   "language": "python",
   "name": "python3"
  },
  "language_info": {
   "codemirror_mode": {
    "name": "ipython",
    "version": 3
   },
   "file_extension": ".py",
   "mimetype": "text/x-python",
   "name": "python",
   "nbconvert_exporter": "python",
   "pygments_lexer": "ipython3",
   "version": "3.5.2"
  }
 },
 "nbformat": 4,
 "nbformat_minor": 2
}
